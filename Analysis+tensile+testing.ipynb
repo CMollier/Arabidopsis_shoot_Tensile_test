{
 "cells": [
  {
   "cell_type": "markdown",
   "metadata": {},
   "source": [
    "## Importations"
   ]
  },
  {
   "cell_type": "code",
   "execution_count": null,
   "metadata": {
    "collapsed": true
   },
   "outputs": [],
   "source": [
    "import matplotlib.pyplot as plt\n",
    "import numpy as np\n",
    "import csv\n",
    "import scipy.stats as sst\n",
    "import string\n",
    "from datetime import datetime, date\n",
    "\n",
    "import xlrd\n",
    "from openpyxl import load_workbook\n",
    "from openpyxl import Workbook\n",
    "from openpyxl.utils import (\n",
    "    coordinate_from_string,\n",
    "    column_index_from_string,\n",
    "    get_column_letter\n",
    "    )"
   ]
  },
  {
   "cell_type": "markdown",
   "metadata": {},
   "source": [
    "## Preliminary functions"
   ]
  },
  {
   "cell_type": "code",
   "execution_count": null,
   "metadata": {
    "collapsed": true
   },
   "outputs": [],
   "source": [
    "def col2num(col):\n",
    "    num = 0\n",
    "    for c in col:\n",
    "        if c in string.ascii_letters:\n",
    "            num = num * 26 + (ord(c.upper()) - ord('A')) + 1\n",
    "    return num"
   ]
  },
  {
   "cell_type": "markdown",
   "metadata": {
    "collapsed": true
   },
   "source": [
    "#### Data extraction\n",
    "The following function takes as an input a .csv file from the INSTRON machine and return it as an array. (Time, displacement, load )"
   ]
  },
  {
   "cell_type": "code",
   "execution_count": 2,
   "metadata": {
    "collapsed": true
   },
   "outputs": [],
   "source": [
    "def extract_data_csv(file):#Extract data from the csv file of the INSTRON\n",
    "    data=[]\n",
    "    with open(file) as csvfile:\n",
    "        datacsv = csv.reader(csvfile)\n",
    "        for i in range(5):\n",
    "            next(datacsv)\n",
    "        for row in datacsv:\n",
    "            temp_row=[]\n",
    "            for i in row:\n",
    "                temp_row.append(float(i))\n",
    "            data.append(temp_row)\n",
    "    return(data)"
   ]
  },
  {
   "cell_type": "markdown",
   "metadata": {},
   "source": [
    "#### Conversion to stress and strain\n",
    "This function takes as a input the previous array, the cross-sectionnal area of the sample and its initial length to compute the stress and the strain."
   ]
  },
  {
   "cell_type": "code",
   "execution_count": 4,
   "metadata": {
    "collapsed": true
   },
   "outputs": [],
   "source": [
    "def Load_extension(data,area,initial_length):#Converts the load, displacement, Diameter and initial length into stress and strain\n",
    "    stress=[]\n",
    "    strain=[]\n",
    "    for i in range(len(data)):\n",
    "        stress.append(data[i][2]/(area/4))# Stress = Load/Cross_sectionnal_area\n",
    "        strain.append(data[i][1]/(initial_length)) # Strain = Elongation/Initial_length\n",
    "    return stress, strain"
   ]
  },
  {
   "cell_type": "markdown",
   "metadata": {},
   "source": [
    "#### Selection of the range of strain used to make the linear fit\n",
    "This function takes as a input the stress/strain array, a superior and inferior strain threshold. It returns the portion of the curve that lies between the interval."
   ]
  },
  {
   "cell_type": "code",
   "execution_count": null,
   "metadata": {
    "collapsed": true
   },
   "outputs": [],
   "source": [
    "def fit_portion(strain,stress,thresh_inf,thresh_sup):\n",
    "    stress_portion=[]\n",
    "    strain_portion=[]\n",
    "    for i in range(len(strain)):\n",
    "        if strain[i]>thresh_inf and strain[i]<thresh_sup:\n",
    "            stress_portion.append(stress[i])\n",
    "            strain_portion.append(strain[i])\n",
    "    return stress_portion,strain_portion"
   ]
  },
  {
   "cell_type": "markdown",
   "metadata": {},
   "source": [
    "#### Computation of the stiffness\n",
    "This function takes as a input the stress/strain array and a threshold couple. It returns the slope of a linear fit within the interval."
   ]
  },
  {
   "cell_type": "code",
   "execution_count": 5,
   "metadata": {
    "collapsed": true
   },
   "outputs": [],
   "source": [
    "def plot_data(thresh_inf,thresh_sup,stress,strain):\n",
    "    stress_portion,strain_portion=fit_portion(strain,stress,thresh_inf,thresh_sup)\n",
    "    return sst.linregress(strain_portion,stress_portion)"
   ]
  },
  {
   "cell_type": "code",
   "execution_count": null,
   "metadata": {
    "collapsed": true
   },
   "outputs": [],
   "source": []
  }
 ],
 "metadata": {
  "kernelspec": {
   "display_name": "Python 3",
   "language": "python",
   "name": "python3"
  },
  "language_info": {
   "codemirror_mode": {
    "name": "ipython",
    "version": 3
   },
   "file_extension": ".py",
   "mimetype": "text/x-python",
   "name": "python",
   "nbconvert_exporter": "python",
   "pygments_lexer": "ipython3",
   "version": "3.6.3"
  }
 },
 "nbformat": 4,
 "nbformat_minor": 2
}
